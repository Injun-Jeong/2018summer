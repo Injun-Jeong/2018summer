{
 "cells": [
  {
   "cell_type": "code",
   "execution_count": 2,
   "metadata": {},
   "outputs": [
    {
     "name": "stderr",
     "output_type": "stream",
     "text": [
      "C:\\Program Files (x86)\\Microsoft Visual Studio\\Shared\\Anaconda3_64\\lib\\site-packages\\h5py\\__init__.py:34: FutureWarning: Conversion of the second argument of issubdtype from `float` to `np.floating` is deprecated. In future, it will be treated as `np.float64 == np.dtype(float).type`.\n",
      "  from ._conv import register_converters as _register_converters\n"
     ]
    }
   ],
   "source": [
    "import tensorflow as tf\n",
    "import numpy as np"
   ]
  },
  {
   "cell_type": "code",
   "execution_count": 9,
   "metadata": {
    "collapsed": true
   },
   "outputs": [],
   "source": [
    "x_data = np.array([[0, 0], [0, 1], [1, 0], [1, 1]], dtype=np.float32)\n",
    "y_data = np.array([[0], [1], [1], [0]], dtype=np.float32)"
   ]
  },
  {
   "cell_type": "code",
   "execution_count": 10,
   "metadata": {},
   "outputs": [],
   "source": [
    "X = tf.placeholder(tf.float32)\n",
    "Y = tf.placeholder(tf.float32)\n",
    "W1 = tf.Variable(tf.random_normal([2, 2]), name = 'weight1')\n",
    "b1 = tf.Variable(tf.random_normal([2]), name = 'bias1')\n",
    "layer1 = tf.sigmoid(tf.matmul(X, W1) + b1)\n",
    "\n",
    "W2 = tf.Variable(tf.random_normal([2, 1]), name = 'weight2')\n",
    "b2 = tf.Variable(tf.random_normal([1]), name = 'bias2')\n",
    "hypothesis = tf.sigmoid(tf.matmul(layer1, W2) + b2)"
   ]
  },
  {
   "cell_type": "code",
   "execution_count": 11,
   "metadata": {
    "collapsed": true
   },
   "outputs": [],
   "source": [
    "cost = -tf.reduce_mean(Y*tf.log(hypothesis)+(1-Y)*tf.log(1-hypothesis))\n",
    "train = tf.train.GradientDescentOptimizer(learning_rate=0.1).minimize(cost)"
   ]
  },
  {
   "cell_type": "code",
   "execution_count": 12,
   "metadata": {
    "collapsed": true
   },
   "outputs": [],
   "source": [
    "predict = tf.cast(hypothesis>0.5, tf.float32)\n",
    "accuracy = tf.reduce_mean(tf.cast(tf.equal(predict, Y), tf.float32))"
   ]
  },
  {
   "cell_type": "code",
   "execution_count": 13,
   "metadata": {},
   "outputs": [
    {
     "name": "stdout",
     "output_type": "stream",
     "text": [
      "0 0.8190509 [array([[ 2.137875  ,  0.00355335],\n",
      "       [-0.782242  ,  0.8445675 ]], dtype=float32), array([[-0.4225395 ],\n",
      "       [-0.04026764]], dtype=float32)]\n",
      "1000 0.6931559 [array([[ 2.137875  ,  0.00355335],\n",
      "       [-0.782242  ,  0.8445675 ]], dtype=float32), array([[-0.01175231],\n",
      "       [-0.01100953]], dtype=float32)]\n",
      "2000 0.6931472 [array([[ 2.137875  ,  0.00355335],\n",
      "       [-0.782242  ,  0.8445675 ]], dtype=float32), array([[-0.00022406],\n",
      "       [-0.00022266]], dtype=float32)]\n",
      "3000 0.6931472 [array([[ 2.137875  ,  0.00355335],\n",
      "       [-0.782242  ,  0.8445675 ]], dtype=float32), array([[-4.3727564e-06],\n",
      "       [-4.3725886e-06]], dtype=float32)]\n",
      "4000 0.6931472 [array([[ 2.137875  ,  0.00355335],\n",
      "       [-0.782242  ,  0.8445675 ]], dtype=float32), array([[-1.3336333e-07],\n",
      "       [-1.3319553e-07]], dtype=float32)]\n",
      "5000 0.6931472 [array([[ 2.137875  ,  0.00355335],\n",
      "       [-0.782242  ,  0.8445675 ]], dtype=float32), array([[-1.3336333e-07],\n",
      "       [-1.3319553e-07]], dtype=float32)]\n",
      "6000 0.6931472 [array([[ 2.137875  ,  0.00355335],\n",
      "       [-0.782242  ,  0.8445675 ]], dtype=float32), array([[-1.3336333e-07],\n",
      "       [-1.3319553e-07]], dtype=float32)]\n",
      "7000 0.6931472 [array([[ 2.137875  ,  0.00355335],\n",
      "       [-0.782242  ,  0.8445675 ]], dtype=float32), array([[-1.3336333e-07],\n",
      "       [-1.3319553e-07]], dtype=float32)]\n",
      "8000 0.6931472 [array([[ 2.137875  ,  0.00355335],\n",
      "       [-0.782242  ,  0.8445675 ]], dtype=float32), array([[-1.3336333e-07],\n",
      "       [-1.3319553e-07]], dtype=float32)]\n",
      "9000 0.6931472 [array([[ 2.137875  ,  0.00355335],\n",
      "       [-0.782242  ,  0.8445675 ]], dtype=float32), array([[-1.3336333e-07],\n",
      "       [-1.3319553e-07]], dtype=float32)]\n",
      "10000 0.6931472 [array([[ 2.137875  ,  0.00355335],\n",
      "       [-0.782242  ,  0.8445675 ]], dtype=float32), array([[-1.3336333e-07],\n",
      "       [-1.3319553e-07]], dtype=float32)]\n",
      "\n",
      "hypothesis:  [[0.5]\n",
      " [0.5]\n",
      " [0.5]\n",
      " [0.5]] \n",
      "correct:  [[0.]\n",
      " [0.]\n",
      " [0.]\n",
      " [0.]] \u0007ccuracy:  0.5\n"
     ]
    }
   ],
   "source": [
    "with tf.Session() as sess:\n",
    "    sess.run(tf.global_variables_initializer())\n",
    "    \n",
    "    for step in range(10001):\n",
    "        sess.run(train, feed_dict={X: x_data, Y: y_data})\n",
    "        if step % 1000 == 0:\n",
    "            print(step, sess.run(cost, feed_dict={X: x_data, Y: y_data}), sess.run([W1, W2]))\n",
    "            \n",
    "    h, c, a = sess.run([hypothesis, predict, accuracy], feed_dict={X: x_data, Y:y_data})\n",
    "    print(\"\\nhypothesis: \", h, \"\\ncorrect: \", c, \"\\accuracy: \", a)"
   ]
  },
  {
   "cell_type": "code",
   "execution_count": null,
   "metadata": {
    "collapsed": true
   },
   "outputs": [],
   "source": []
  },
  {
   "cell_type": "code",
   "execution_count": null,
   "metadata": {
    "collapsed": true
   },
   "outputs": [],
   "source": []
  }
 ],
 "metadata": {
  "kernelspec": {
   "display_name": "Python 3",
   "language": "python",
   "name": "python3"
  },
  "language_info": {
   "codemirror_mode": {
    "name": "ipython",
    "version": 3
   },
   "file_extension": ".py",
   "mimetype": "text/x-python",
   "name": "python",
   "nbconvert_exporter": "python",
   "pygments_lexer": "ipython3",
   "version": "3.6.2"
  }
 },
 "nbformat": 4,
 "nbformat_minor": 2
}
