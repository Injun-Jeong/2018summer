{
 "cells": [
  {
   "cell_type": "code",
   "execution_count": 4,
   "metadata": {},
   "outputs": [
    {
     "name": "stdout",
     "output_type": "stream",
     "text": [
      "\n",
      "step:  0 \n",
      "cost:  170097.5 \n",
      "Prediction:  [-212.65108 -256.55408 -252.28568 -274.29333 -196.3791 ]\n",
      "\n",
      "step:  100 \n",
      "cost:  3.2323012 \n",
      "Prediction:  [153.2316  183.32741 181.07602 197.63031 139.16603]\n",
      "\n",
      "step:  200 \n",
      "cost:  3.0925975 \n",
      "Prediction:  [153.17104 183.36923 181.05788 197.61398 139.22363]\n",
      "\n",
      "step:  300 \n",
      "cost:  2.9601798 \n",
      "Prediction:  [153.11214 183.40993 181.04024 197.59804 139.27972]\n",
      "\n",
      "step:  400 \n",
      "cost:  2.8346233 \n",
      "Prediction:  [153.05487 183.44954 181.0231  197.58246 139.33438]\n",
      "\n",
      "step:  500 \n",
      "cost:  2.7155952 \n",
      "Prediction:  [152.99911 183.48804 181.00642 197.56723 139.3876 ]\n",
      "\n",
      "step:  600 \n",
      "cost:  2.6027355 \n",
      "Prediction:  [152.94495 183.52553 180.99023 197.55235 139.43947]\n",
      "\n",
      "step:  700 \n",
      "cost:  2.495721 \n",
      "Prediction:  [152.89223 183.56198 180.97447 197.5378  139.48997]\n",
      "\n",
      "step:  800 \n",
      "cost:  2.3942695 \n",
      "Prediction:  [152.84096 183.59744 180.95917 197.52357 139.53917]\n",
      "\n",
      "step:  900 \n",
      "cost:  2.2980466 \n",
      "Prediction:  [152.79109 183.63194 180.94429 197.50967 139.58711]\n",
      "\n",
      "step:  1000 \n",
      "cost:  2.2068238 \n",
      "Prediction:  [152.7426  183.66551 180.92984 197.49608 139.63379]\n",
      "\n",
      "step:  1100 \n",
      "cost:  2.1203125 \n",
      "Prediction:  [152.69543 183.69817 180.9158  197.4828  139.67928]\n",
      "\n",
      "step:  1200 \n",
      "cost:  2.038261 \n",
      "Prediction:  [152.64958 183.72992 180.90215 197.4698  139.72359]\n",
      "\n",
      "step:  1300 \n",
      "cost:  1.960439 \n",
      "Prediction:  [152.60497 183.76082 180.88887 197.4571  139.76675]\n",
      "\n",
      "step:  1400 \n",
      "cost:  1.8866253 \n",
      "Prediction:  [152.56158 183.79086 180.87598 197.44467 139.8088 ]\n",
      "\n",
      "step:  1500 \n",
      "cost:  1.8165882 \n",
      "Prediction:  [152.51941 183.82008 180.86343 197.4325  139.8498 ]\n",
      "\n",
      "step:  1600 \n",
      "cost:  1.7501717 \n",
      "Prediction:  [152.47838 183.84853 180.85127 197.42061 139.88971]\n",
      "\n",
      "step:  1700 \n",
      "cost:  1.6871579 \n",
      "Prediction:  [152.4385  183.87617 180.83945 197.40898 139.92862]\n",
      "\n",
      "step:  1800 \n",
      "cost:  1.6273696 \n",
      "Prediction:  [152.3997  183.90308 180.82794 197.39761 139.96652]\n",
      "\n",
      "step:  1900 \n",
      "cost:  1.5706478 \n",
      "Prediction:  [152.36198 183.92924 180.81679 197.38646 140.00343]\n",
      "\n",
      "step:  2000 \n",
      "cost:  1.5168107 \n",
      "Prediction:  [152.3253  183.9547  180.80594 197.37555 140.03941]\n"
     ]
    }
   ],
   "source": [
    "import tensorflow as tf\n",
    "\n",
    "x1_data = [73, 93, 89, 96, 73]\n",
    "x2_data = [80, 88, 91, 98, 66]\n",
    "x3_data = [75, 93, 90, 100, 70]\n",
    "y_data = [152, 185, 180, 196, 142]\n",
    "\n",
    "x1 = tf.placeholder(tf.float32)\n",
    "x2 = tf.placeholder(tf.float32)\n",
    "x3 = tf.placeholder(tf.float32)\n",
    "y = tf.placeholder(tf.float32)\n",
    "\n",
    "w1 = tf.Variable(tf.random_normal([1]), name = 'weight1')\n",
    "w2 = tf.Variable(tf.random_normal([1]), name = 'weight2')\n",
    "w3 = tf.Variable(tf.random_normal([1]), name = 'weight3')\n",
    "b = tf.Variable(tf.random_normal([1]), name = 'bias')\n",
    "\n",
    "hypothesis = x1*w1 + x2*w2 + x3*w3 + b\n",
    "\n",
    "cost = tf.reduce_mean(tf.square(hypothesis - y))\n",
    "\n",
    "optimizer = tf.train.GradientDescentOptimizer(learning_rate = 1e-5)\n",
    "train = optimizer.minimize(cost)\n",
    "\n",
    "sess = tf.Session()\n",
    "sess.run(tf.global_variables_initializer())\n",
    "\n",
    "\n",
    "for step in range(2001):\n",
    "    cost_val, hy_val, _ = sess.run([cost, hypothesis, train], feed_dict = {x1: x1_data, x2:x2_data, x3:x3_data, y:y_data})\n",
    "    if step % 100 == 0:\n",
    "        print(\"\\nstep: \", step, \"\\ncost: \", cost_val, \"\\nPrediction: \", hy_val)\n",
    "    "
   ]
  },
  {
   "cell_type": "code",
   "execution_count": 7,
   "metadata": {},
   "outputs": [
    {
     "name": "stdout",
     "output_type": "stream",
     "text": [
      "prediction score is  176.14865\n"
     ]
    }
   ],
   "source": [
    "test_val = sess.run(hypothesis, feed_dict = {x1: [85, 0, 0, 0, 0], x2: [90, 0, 0, 0, 0], x3: [88, 0, 0, 0, 0]})\n",
    "print(\"prediction score is \", test_val[0])"
   ]
  },
  {
   "cell_type": "code",
   "execution_count": null,
   "metadata": {
    "collapsed": true
   },
   "outputs": [],
   "source": []
  }
 ],
 "metadata": {
  "kernelspec": {
   "display_name": "Python 3",
   "language": "python",
   "name": "python3"
  },
  "language_info": {
   "codemirror_mode": {
    "name": "ipython",
    "version": 3
   },
   "file_extension": ".py",
   "mimetype": "text/x-python",
   "name": "python",
   "nbconvert_exporter": "python",
   "pygments_lexer": "ipython3",
   "version": "3.6.2"
  }
 },
 "nbformat": 4,
 "nbformat_minor": 2
}
