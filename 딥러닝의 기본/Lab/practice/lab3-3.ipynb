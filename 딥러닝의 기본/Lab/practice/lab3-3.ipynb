{
 "cells": [
  {
   "cell_type": "code",
   "execution_count": 2,
   "metadata": {},
   "outputs": [
    {
     "name": "stderr",
     "output_type": "stream",
     "text": [
      "C:\\Program Files (x86)\\Microsoft Visual Studio\\Shared\\Anaconda3_64\\lib\\site-packages\\h5py\\__init__.py:34: FutureWarning: Conversion of the second argument of issubdtype from `float` to `np.floating` is deprecated. In future, it will be treated as `np.float64 == np.dtype(float).type`.\n",
      "  from ._conv import register_converters as _register_converters\n"
     ]
    },
    {
     "name": "stdout",
     "output_type": "stream",
     "text": [
      "0 9.815931 [0.16266018]\n",
      "1 2.7920873 [0.55341876]\n",
      "2 0.7941937 [0.76182336]\n",
      "3 0.22590384 [0.8729725]\n",
      "4 0.06425708 [0.932252]\n",
      "5 0.018277567 [0.9638677]\n",
      "6 0.0051989653 [0.98072946]\n",
      "7 0.0014788078 [0.9897224]\n",
      "8 0.00042064185 [0.9945186]\n",
      "9 0.00011964908 [0.9970766]\n",
      "10 3.4031655e-05 [0.99844086]\n",
      "11 9.680228e-06 [0.99916846]\n",
      "12 2.7540755e-06 [0.9995565]\n",
      "13 7.8312587e-07 [0.9997635]\n",
      "14 2.2269967e-07 [0.9998739]\n",
      "15 6.342215e-08 [0.9999327]\n",
      "16 1.8050926e-08 [0.9999641]\n",
      "17 5.1318985e-09 [0.99998087]\n",
      "18 1.4507471e-09 [0.9999898]\n",
      "19 4.0994408e-10 [0.9999946]\n",
      "20 1.2046897e-10 [0.9999971]\n"
     ]
    }
   ],
   "source": [
    "import tensorflow as tf\n",
    "\n",
    "x_data = [1, 2, 3]\n",
    "y_data = [1, 2, 3]\n",
    "\n",
    "W = tf.Variable(tf.random_normal([1]), name = 'weight')\n",
    "X = tf.placeholder(tf.float32)\n",
    "Y = tf.placeholder(tf.float32)\n",
    "\n",
    "hypothesis = X * W\n",
    "\n",
    "cost = tf.reduce_sum(tf.square(hypothesis - Y))\n",
    "\n",
    "learning_rate = 0.1\n",
    "gradient = tf.reduce_mean((W * X - Y) * X)\n",
    "descent = W - learning_rate * gradient\n",
    "update = W.assign(descent)\n",
    "\n",
    "sess = tf.Session()\n",
    "sess.run(tf.global_variables_initializer())\n",
    "\n",
    "for step in range(21):\n",
    "    sess.run(update, feed_dict={X: x_data, Y: y_data})\n",
    "    print(step, sess.run(cost, feed_dict={X: x_data, Y: y_data}), sess.run(W))"
   ]
  },
  {
   "cell_type": "code",
   "execution_count": null,
   "metadata": {
    "collapsed": true
   },
   "outputs": [],
   "source": []
  }
 ],
 "metadata": {
  "kernelspec": {
   "display_name": "Python 3",
   "language": "python",
   "name": "python3"
  },
  "language_info": {
   "codemirror_mode": {
    "name": "ipython",
    "version": 3
   },
   "file_extension": ".py",
   "mimetype": "text/x-python",
   "name": "python",
   "nbconvert_exporter": "python",
   "pygments_lexer": "ipython3",
   "version": "3.6.2"
  }
 },
 "nbformat": 4,
 "nbformat_minor": 2
}
