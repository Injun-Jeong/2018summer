{
 "cells": [
  {
   "cell_type": "code",
   "execution_count": 8,
   "metadata": {},
   "outputs": [
    {
     "name": "stdout",
     "output_type": "stream",
     "text": [
      "0 0.7561264 [array([[-0.41633558,  0.7200468 ],\n",
      "       [-1.3999993 , -0.11341988]], dtype=float32), array([[1.5626742],\n",
      "       [1.1539245]], dtype=float32)]\n",
      "1000 0.66110563 [array([[-1.2026048 ,  1.0954081 ],\n",
      "       [-1.3272216 ,  0.91680956]], dtype=float32), array([[1.4233922],\n",
      "       [1.1111346]], dtype=float32)]\n",
      "2000 0.48617896 [array([[-2.279972 ,  2.7241623],\n",
      "       [-2.283125 ,  2.7006333]], dtype=float32), array([[2.280226 ],\n",
      "       [2.6075797]], dtype=float32)]\n",
      "3000 0.23161668 [array([[-3.4395807,  4.3855224],\n",
      "       [-3.4384599,  4.381324 ]], dtype=float32), array([[4.0948486],\n",
      "       [4.416382 ]], dtype=float32)]\n",
      "4000 0.12359973 [array([[-4.1502976,  5.221255 ],\n",
      "       [-4.1497936,  5.2194166]], dtype=float32), array([[5.454383 ],\n",
      "       [5.6030917]], dtype=float32)]\n",
      "5000 0.07944919 [array([[-4.5790763,  5.6945047],\n",
      "       [-4.5787797,  5.6933656]], dtype=float32), array([[6.3422494],\n",
      "       [6.413337 ]], dtype=float32)]\n",
      "6000 0.057341576 [array([[-4.8687863,  6.0067344],\n",
      "       [-4.868581 ,  6.005907 ]], dtype=float32), array([[6.9772305],\n",
      "       [7.0098596]], dtype=float32)]\n",
      "7000 0.04445088 [array([[-5.082086 ,  6.23381  ],\n",
      "       [-5.081928 ,  6.2331543]], dtype=float32), array([[7.4658713],\n",
      "       [7.4763927]], dtype=float32)]\n",
      "8000 0.036119595 [array([[-5.248568 ,  6.4097023],\n",
      "       [-5.2484407,  6.409157 ]], dtype=float32), array([[7.8610897],\n",
      "       [7.857448 ]], dtype=float32)]\n",
      "9000 0.030333932 [array([[-5.3839297,  6.5519753],\n",
      "       [-5.3838224,  6.551502 ]], dtype=float32), array([[8.192055],\n",
      "       [8.178636]], dtype=float32)]\n",
      "10000 0.026099917 [array([[-5.497323 ,  6.670699 ],\n",
      "       [-5.4972305,  6.6702843]], dtype=float32), array([[8.476331],\n",
      "       [8.455774]], dtype=float32)]\n",
      "\n",
      "Hypothesis:  [[0.0285514 ]\n",
      " [0.97818416]\n",
      " [0.97818506]\n",
      " [0.03083363]] \n",
      "Correct:  [[0.]\n",
      " [1.]\n",
      " [1.]\n",
      " [0.]] \n",
      "Accuracy:  1.0\n"
     ]
    },
    {
     "data": {
      "text/plain": [
       "'\\nHypothesis:  [[ 0.01338218]\\n [ 0.98166394]\\n [ 0.98809403]\\n [ 0.01135799]]\\nCorrect:  [[ 0.]\\n [ 1.]\\n [ 1.]\\n [ 0.]]\\nAccuracy:  1.0\\n'"
      ]
     },
     "execution_count": 8,
     "metadata": {},
     "output_type": "execute_result"
    }
   ],
   "source": [
    "# Lab 9 XOR\n",
    "import tensorflow as tf\n",
    "import numpy as np\n",
    "\n",
    "tf.set_random_seed(777)  # for reproducibility\n",
    "learning_rate = 0.1\n",
    "\n",
    "x_data = [[0, 0],\n",
    "          [0, 1],\n",
    "          [1, 0],\n",
    "          [1, 1]]\n",
    "y_data = [[0],\n",
    "          [1],\n",
    "          [1],\n",
    "          [0]]\n",
    "#x_data = np.array(x_data, dtype=np.float32)\n",
    "#y_data = np.array(y_data, dtype=np.float32)\n",
    "\n",
    "X = tf.placeholder(tf.float32, [None, 2])\n",
    "Y = tf.placeholder(tf.float32, [None, 1])\n",
    "\n",
    "W1 = tf.Variable(tf.random_normal([2, 2]), name='weight1')\n",
    "b1 = tf.Variable(tf.random_normal([2]), name='bias1')\n",
    "layer1 = tf.sigmoid(tf.matmul(X, W1) + b1)\n",
    "\n",
    "W2 = tf.Variable(tf.random_normal([2, 1]), name='weight2')\n",
    "b2 = tf.Variable(tf.random_normal([1]), name='bias2')\n",
    "hypothesis = tf.sigmoid(tf.matmul(layer1, W2) + b2)\n",
    "\n",
    "# cost/loss function\n",
    "cost = -tf.reduce_mean(Y * tf.log(hypothesis) + (1 - Y) *\n",
    "                       tf.log(1 - hypothesis))\n",
    "\n",
    "train = tf.train.GradientDescentOptimizer(learning_rate=learning_rate).minimize(cost)\n",
    "\n",
    "# Accuracy computation\n",
    "# True if hypothesis>0.5 else False\n",
    "predicted = tf.cast(hypothesis > 0.5, dtype=tf.float32)\n",
    "accuracy = tf.reduce_mean(tf.cast(tf.equal(predicted, Y), dtype=tf.float32))\n",
    "\n",
    "# Launch graph\n",
    "with tf.Session() as sess:\n",
    "    # Initialize TensorFlow variables\n",
    "    sess.run(tf.global_variables_initializer())\n",
    "\n",
    "    for step in range(10001):\n",
    "        sess.run(train, feed_dict={X: x_data, Y: y_data})\n",
    "        if step % 1000 == 0:\n",
    "            print(step, sess.run(cost, feed_dict={\n",
    "                  X: x_data, Y: y_data}), sess.run([W1, W2]))\n",
    "\n",
    "    # Accuracy report\n",
    "    h, c, a = sess.run([hypothesis, predicted, accuracy],\n",
    "                       feed_dict={X: x_data, Y: y_data})\n",
    "    print(\"\\nHypothesis: \", h, \"\\nCorrect: \", c, \"\\nAccuracy: \", a)\n",
    "\n",
    "\n",
    "'''\n",
    "Hypothesis:  [[ 0.01338218]\n",
    " [ 0.98166394]\n",
    " [ 0.98809403]\n",
    " [ 0.01135799]]\n",
    "Correct:  [[ 0.]\n",
    " [ 1.]\n",
    " [ 1.]\n",
    " [ 0.]]\n",
    "Accuracy:  1.0\n",
    "'''\n"
   ]
  },
  {
   "cell_type": "code",
   "execution_count": null,
   "metadata": {
    "collapsed": true
   },
   "outputs": [],
   "source": []
  },
  {
   "cell_type": "code",
   "execution_count": null,
   "metadata": {
    "collapsed": true
   },
   "outputs": [],
   "source": []
  }
 ],
 "metadata": {
  "kernelspec": {
   "display_name": "Python 3",
   "language": "python",
   "name": "python3"
  },
  "language_info": {
   "codemirror_mode": {
    "name": "ipython",
    "version": 3
   },
   "file_extension": ".py",
   "mimetype": "text/x-python",
   "name": "python",
   "nbconvert_exporter": "python",
   "pygments_lexer": "ipython3",
   "version": "3.6.2"
  }
 },
 "nbformat": 4,
 "nbformat_minor": 2
}
