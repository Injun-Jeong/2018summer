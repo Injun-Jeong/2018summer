{
 "cells": [
  {
   "cell_type": "code",
   "execution_count": 2,
   "metadata": {},
   "outputs": [
    {
     "name": "stderr",
     "output_type": "stream",
     "text": [
      "C:\\Program Files (x86)\\Microsoft Visual Studio\\Shared\\Anaconda3_64\\lib\\site-packages\\h5py\\__init__.py:34: FutureWarning: Conversion of the second argument of issubdtype from `float` to `np.floating` is deprecated. In future, it will be treated as `np.float64 == np.dtype(float).type`.\n",
      "  from ._conv import register_converters as _register_converters\n"
     ]
    }
   ],
   "source": [
    "import tensorflow as tf\n",
    "import numpy as np"
   ]
  },
  {
   "cell_type": "code",
   "execution_count": 20,
   "metadata": {
    "collapsed": true
   },
   "outputs": [],
   "source": [
    "x_data = np.array([[0, 0], [0, 1], [1, 0], [1, 1]], dtype=np.float32)\n",
    "y_data = np.array([[0], [1], [1], [0]], dtype=np.float32)"
   ]
  },
  {
   "cell_type": "code",
   "execution_count": 21,
   "metadata": {},
   "outputs": [],
   "source": [
    "X = tf.placeholder(tf.float32)\n",
    "Y = tf.placeholder(tf.float32)\n",
    "W1 = tf.Variable(tf.random_normal([2, 2]), name = 'weight1')\n",
    "b1 = tf.Variable(tf.random_normal([2]), name = 'bias1')\n",
    "layer1 = tf.sigmoid(tf.matmul(X, W1) + b1)\n",
    "\n",
    "W2 = tf.Variable(tf.random_normal([2, 1]), name = 'weight2')\n",
    "b2 = tf.Variable(tf.random_normal([1]), name = 'bias2')\n",
    "hypothesis = tf.sigmoid(tf.matmul(layer1, W2) + b2)"
   ]
  },
  {
   "cell_type": "code",
   "execution_count": 22,
   "metadata": {
    "collapsed": true
   },
   "outputs": [],
   "source": [
    "cost = -tf.reduce_mean(Y*tf.log(hypothesis)+(1-Y)*tf.log(1-hypothesis))\n",
    "train = tf.train.GradientDescentOptimizer(learning_rate=0.1).minimize(cost)"
   ]
  },
  {
   "cell_type": "code",
   "execution_count": 23,
   "metadata": {
    "collapsed": true
   },
   "outputs": [],
   "source": [
    "predict = tf.cast(hypothesis>0.5, tf.float32)\n",
    "accuracy = tf.reduce_mean(tf.cast(tf.equal(predict, Y), tf.float32))"
   ]
  },
  {
   "cell_type": "code",
   "execution_count": 29,
   "metadata": {},
   "outputs": [
    {
     "name": "stdout",
     "output_type": "stream",
     "text": [
      "0 0.85121524 [array([[ 2.6325827 ,  0.8474962 ],\n",
      "       [ 0.12016099, -1.7142215 ]], dtype=float32), array([[-0.11287185],\n",
      "       [ 0.36607128]], dtype=float32)]\n",
      "1000 0.61737454 [array([[ 2.6787522,  2.0433943],\n",
      "       [ 1.158904 , -2.7040403]], dtype=float32), array([[0.76656884],\n",
      "       [1.9420899 ]], dtype=float32)]\n",
      "2000 0.4889199 [array([[ 2.838302 ,  3.3194132],\n",
      "       [ 2.7544694, -4.170362 ]], dtype=float32), array([[1.9101667],\n",
      "       [3.4388106]], dtype=float32)]\n",
      "3000 0.4140821 [array([[ 3.1397917,  3.912893 ],\n",
      "       [ 4.2897315, -5.161645 ]], dtype=float32), array([[3.025299 ],\n",
      "       [4.3222117]], dtype=float32)]\n",
      "4000 0.386317 [array([[ 3.4170387,  4.2126923],\n",
      "       [ 5.2305474, -5.8192415]], dtype=float32), array([[3.687214],\n",
      "       [4.887044]], dtype=float32)]\n",
      "5000 0.3738058 [array([[ 3.6263297,  4.396354 ],\n",
      "       [ 5.847902 , -6.2892456]], dtype=float32), array([[4.1244974],\n",
      "       [5.2830095]], dtype=float32)]\n",
      "6000 0.3669857 [array([[ 3.7862077,  4.524462 ],\n",
      "       [ 6.2969055, -6.648491 ]], dtype=float32), array([[4.4449368],\n",
      "       [5.5821614]], dtype=float32)]\n",
      "7000 0.3627721 [array([[ 3.9128835,  4.6213207],\n",
      "       [ 6.6464505, -6.936909 ]], dtype=float32), array([[4.695785 ],\n",
      "       [5.8205705]], dtype=float32)]\n",
      "8000 0.35993877 [array([[ 4.01659  ,  4.698509 ],\n",
      "       [ 6.9312234, -7.176815 ]], dtype=float32), array([[4.9009953],\n",
      "       [6.017887 ]], dtype=float32)]\n",
      "9000 0.3579149 [array([[ 4.1037555,  4.7623167],\n",
      "       [ 7.1707625, -7.381663 ]], dtype=float32), array([[5.0741673],\n",
      "       [6.1857686]], dtype=float32)]\n",
      "10000 0.356403 [array([[ 4.1785593,  4.8164897],\n",
      "       [ 7.377065 , -7.560096 ]], dtype=float32), array([[5.2237086],\n",
      "       [6.331622 ]], dtype=float32)]\n",
      "\n",
      "hypothesis:  [[0.01600833]\n",
      " [0.49557886]\n",
      " [0.99124104]\n",
      " [0.50274277]] \n",
      "correct:  [[0.]\n",
      " [0.]\n",
      " [1.]\n",
      " [1.]] \u0007ccuracy:  0.5\n"
     ]
    }
   ],
   "source": [
    "with tf.Session() as sess:\n",
    "    sess.run(tf.global_variables_initializer())\n",
    "    \n",
    "    for step in range(10001):\n",
    "        sess.run(train, feed_dict={X: x_data, Y: y_data})\n",
    "        if step % 1000 == 0:\n",
    "            print(step, sess.run(cost, feed_dict={X: x_data, Y: y_data}), sess.run([W1, W2]))\n",
    "            \n",
    "    h, c, a = sess.run([hypothesis, predict, accuracy], feed_dict={X: x_data, Y:y_data})\n",
    "    print(\"\\nhypothesis: \", h, \"\\ncorrect: \", c, \"\\accuracy: \", a)"
   ]
  },
  {
   "cell_type": "code",
   "execution_count": null,
   "metadata": {
    "collapsed": true
   },
   "outputs": [],
   "source": []
  },
  {
   "cell_type": "code",
   "execution_count": null,
   "metadata": {
    "collapsed": true
   },
   "outputs": [],
   "source": []
  }
 ],
 "metadata": {
  "kernelspec": {
   "display_name": "Python 3",
   "language": "python",
   "name": "python3"
  },
  "language_info": {
   "codemirror_mode": {
    "name": "ipython",
    "version": 3
   },
   "file_extension": ".py",
   "mimetype": "text/x-python",
   "name": "python",
   "nbconvert_exporter": "python",
   "pygments_lexer": "ipython3",
   "version": "3.6.2"
  }
 },
 "nbformat": 4,
 "nbformat_minor": 2
}
