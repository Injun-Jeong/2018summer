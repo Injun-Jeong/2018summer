{
 "cells": [
  {
   "cell_type": "code",
   "execution_count": 10,
   "metadata": {},
   "outputs": [],
   "source": [
    "import os\n",
    "\n",
    "\n",
    "os.chdir(\"C:\\\\Users\\\\정인준\\\\Desktop\\\\WORK\\\\경북대학교\\\\\\'18년도 여름방학\\\\ML\\\\Lab\\\\practice\\\\input\")\n"
   ]
  },
  {
   "cell_type": "code",
   "execution_count": 11,
   "metadata": {},
   "outputs": [
    {
     "name": "stdout",
     "output_type": "stream",
     "text": [
      " Volume in drive C is OS\n",
      " Volume Serial Number is 26FD-7FBB\n",
      "\n",
      " Directory of C:\\Users\\정인준\\Desktop\\WORK\\경북대학교\\'18년도 여름방학\\ML\\Lab\\practice\\input\n",
      "\n",
      "07/22/2018  03:11 AM    <DIR>          .\n",
      "07/22/2018  03:11 AM    <DIR>          ..\n",
      "07/22/2018  03:07 AM                83 data.csv.txt\n",
      "               1 File(s)             83 bytes\n",
      "               2 Dir(s)  91,551,997,952 bytes free\n"
     ]
    }
   ],
   "source": [
    "ls"
   ]
  },
  {
   "cell_type": "code",
   "execution_count": null,
   "metadata": {
    "collapsed": true
   },
   "outputs": [],
   "source": []
  }
 ],
 "metadata": {
  "kernelspec": {
   "display_name": "Python 3",
   "language": "python",
   "name": "python3"
  },
  "language_info": {
   "codemirror_mode": {
    "name": "ipython",
    "version": 3
   },
   "file_extension": ".py",
   "mimetype": "text/x-python",
   "name": "python",
   "nbconvert_exporter": "python",
   "pygments_lexer": "ipython3",
   "version": "3.6.2"
  }
 },
 "nbformat": 4,
 "nbformat_minor": 2
}
