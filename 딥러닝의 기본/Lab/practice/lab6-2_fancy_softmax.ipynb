{
 "cells": [
  {
   "cell_type": "code",
   "execution_count": 1,
   "metadata": {},
   "outputs": [
    {
     "name": "stderr",
     "output_type": "stream",
     "text": [
      "C:\\Program Files (x86)\\Microsoft Visual Studio\\Shared\\Anaconda3_64\\lib\\site-packages\\h5py\\__init__.py:34: FutureWarning: Conversion of the second argument of issubdtype from `float` to `np.floating` is deprecated. In future, it will be treated as `np.float64 == np.dtype(float).type`.\n",
      "  from ._conv import register_converters as _register_converters\n"
     ]
    }
   ],
   "source": [
    "import tensorflow as tf"
   ]
  },
  {
   "cell_type": "code",
   "execution_count": 32,
   "metadata": {
    "collapsed": true
   },
   "outputs": [],
   "source": [
    "import os\n",
    "os.chdir(\"C:\\\\Users\\\\정인준\\\\Desktop\\\\ml\\\\DeepLearningZeroToAll\")\n",
    "import numpy as np"
   ]
  },
  {
   "cell_type": "code",
   "execution_count": 33,
   "metadata": {
    "collapsed": true
   },
   "outputs": [],
   "source": [
    "xy = np.loadtxt('data-04-zoo.csv', delimiter = ',', dtype = np.float32)\n",
    "x_data = xy[:, 0:-1]\n",
    "y_data = xy[:, [-1]]"
   ]
  },
  {
   "cell_type": "code",
   "execution_count": 34,
   "metadata": {
    "collapsed": true
   },
   "outputs": [],
   "source": [
    "nb_classes = 7"
   ]
  },
  {
   "cell_type": "code",
   "execution_count": 35,
   "metadata": {
    "collapsed": true
   },
   "outputs": [],
   "source": [
    "X = tf.placeholder(tf.float32, [None, 16])\n",
    "Y = tf.placeholder(tf.int32, [None, 1])"
   ]
  },
  {
   "cell_type": "code",
   "execution_count": 36,
   "metadata": {
    "collapsed": true
   },
   "outputs": [],
   "source": [
    "Y_one_hot = tf.one_hot(Y, nb_classes)\n",
    "Y_one_hot = tf.reshape(Y_one_hot, [-1, nb_classes])"
   ]
  },
  {
   "cell_type": "code",
   "execution_count": 37,
   "metadata": {},
   "outputs": [],
   "source": [
    "W = tf.Variable(tf.random_normal([16, nb_classes]), name = 'weight')\n",
    "b = tf.Variable(tf.random_normal([nb_classes]), name = 'bias')"
   ]
  },
  {
   "cell_type": "code",
   "execution_count": 38,
   "metadata": {
    "collapsed": true
   },
   "outputs": [],
   "source": [
    "logits = tf.matmul(X, W) + b\n",
    "hypothesis = tf.nn.softmax(logits)"
   ]
  },
  {
   "cell_type": "code",
   "execution_count": 39,
   "metadata": {},
   "outputs": [],
   "source": [
    "cost_i = tf.nn.softmax_cross_entropy_with_logits_v2(logits=logits, labels=Y_one_hot)\n",
    "cost = tf.reduce_mean(cost_i)\n",
    "optimizer = tf.train.GradientDescentOptimizer(learning_rate = 0.1).minimize(cost)"
   ]
  },
  {
   "cell_type": "code",
   "execution_count": 40,
   "metadata": {
    "collapsed": true
   },
   "outputs": [],
   "source": [
    "prediction = tf.argmax(hypothesis, 1)\n",
    "correct_prediction = tf.equal(prediction, tf.argmax(Y_one_hot, 1))\n",
    "accuracy = tf.reduce_mean(tf.cast(correct_prediction, tf.float32))"
   ]
  },
  {
   "cell_type": "code",
   "execution_count": 41,
   "metadata": {
    "collapsed": true
   },
   "outputs": [],
   "source": [
    "sess = tf.Session()\n",
    "sess.run(tf.global_variables_initializer())"
   ]
  },
  {
   "cell_type": "code",
   "execution_count": 42,
   "metadata": {},
   "outputs": [
    {
     "name": "stdout",
     "output_type": "stream",
     "text": [
      "Step:     0\tLoss: 4.571\tAcc: 14.85%\n",
      "Step:   200\tLoss: 0.433\tAcc: 89.11%\n",
      "Step:   400\tLoss: 0.280\tAcc: 93.07%\n",
      "Step:   600\tLoss: 0.204\tAcc: 95.05%\n",
      "Step:   800\tLoss: 0.159\tAcc: 95.05%\n",
      "Step:  1000\tLoss: 0.128\tAcc: 95.05%\n",
      "Step:  1200\tLoss: 0.106\tAcc: 99.01%\n",
      "Step:  1400\tLoss: 0.090\tAcc: 100.00%\n",
      "Step:  1600\tLoss: 0.078\tAcc: 100.00%\n",
      "Step:  1800\tLoss: 0.069\tAcc: 100.00%\n"
     ]
    }
   ],
   "source": [
    "for step in range(2000):\n",
    "    sess.run(optimizer, feed_dict = {X: x_data, Y: y_data})\n",
    "    if step % 200 == 0:\n",
    "        loss, acc = sess.run([cost, accuracy], feed_dict = {X: x_data, Y: y_data})\n",
    "        print(\"Step: {:5}\\tLoss: {:.3f}\\tAcc: {:.2%}\".format(step, loss, acc))"
   ]
  },
  {
   "cell_type": "code",
   "execution_count": 43,
   "metadata": {},
   "outputs": [
    {
     "name": "stdout",
     "output_type": "stream",
     "text": [
      "[True] Predicion: 0 True Y: 0\n",
      "[True] Predicion: 0 True Y: 0\n",
      "[True] Predicion: 3 True Y: 3\n",
      "[True] Predicion: 0 True Y: 0\n",
      "[True] Predicion: 0 True Y: 0\n",
      "[True] Predicion: 0 True Y: 0\n",
      "[True] Predicion: 0 True Y: 0\n",
      "[True] Predicion: 3 True Y: 3\n",
      "[True] Predicion: 3 True Y: 3\n",
      "[True] Predicion: 0 True Y: 0\n",
      "[True] Predicion: 0 True Y: 0\n",
      "[True] Predicion: 1 True Y: 1\n",
      "[True] Predicion: 3 True Y: 3\n",
      "[True] Predicion: 6 True Y: 6\n",
      "[True] Predicion: 6 True Y: 6\n",
      "[True] Predicion: 6 True Y: 6\n",
      "[True] Predicion: 1 True Y: 1\n",
      "[True] Predicion: 0 True Y: 0\n",
      "[True] Predicion: 3 True Y: 3\n",
      "[True] Predicion: 0 True Y: 0\n",
      "[True] Predicion: 1 True Y: 1\n",
      "[True] Predicion: 1 True Y: 1\n",
      "[True] Predicion: 0 True Y: 0\n",
      "[True] Predicion: 1 True Y: 1\n",
      "[True] Predicion: 5 True Y: 5\n",
      "[True] Predicion: 4 True Y: 4\n",
      "[True] Predicion: 4 True Y: 4\n",
      "[True] Predicion: 0 True Y: 0\n",
      "[True] Predicion: 0 True Y: 0\n",
      "[True] Predicion: 0 True Y: 0\n",
      "[True] Predicion: 5 True Y: 5\n",
      "[True] Predicion: 0 True Y: 0\n",
      "[True] Predicion: 0 True Y: 0\n",
      "[True] Predicion: 1 True Y: 1\n",
      "[True] Predicion: 3 True Y: 3\n",
      "[True] Predicion: 0 True Y: 0\n",
      "[True] Predicion: 0 True Y: 0\n",
      "[True] Predicion: 1 True Y: 1\n",
      "[True] Predicion: 3 True Y: 3\n",
      "[True] Predicion: 5 True Y: 5\n",
      "[True] Predicion: 5 True Y: 5\n",
      "[True] Predicion: 1 True Y: 1\n",
      "[True] Predicion: 5 True Y: 5\n",
      "[True] Predicion: 1 True Y: 1\n",
      "[True] Predicion: 0 True Y: 0\n",
      "[True] Predicion: 0 True Y: 0\n",
      "[True] Predicion: 6 True Y: 6\n",
      "[True] Predicion: 0 True Y: 0\n",
      "[True] Predicion: 0 True Y: 0\n",
      "[True] Predicion: 0 True Y: 0\n",
      "[True] Predicion: 0 True Y: 0\n",
      "[True] Predicion: 5 True Y: 5\n",
      "[True] Predicion: 4 True Y: 4\n",
      "[True] Predicion: 6 True Y: 6\n",
      "[True] Predicion: 0 True Y: 0\n",
      "[True] Predicion: 0 True Y: 0\n",
      "[True] Predicion: 1 True Y: 1\n",
      "[True] Predicion: 1 True Y: 1\n",
      "[True] Predicion: 1 True Y: 1\n",
      "[True] Predicion: 1 True Y: 1\n",
      "[True] Predicion: 3 True Y: 3\n",
      "[True] Predicion: 3 True Y: 3\n",
      "[True] Predicion: 2 True Y: 2\n",
      "[True] Predicion: 0 True Y: 0\n",
      "[True] Predicion: 0 True Y: 0\n",
      "[True] Predicion: 0 True Y: 0\n",
      "[True] Predicion: 0 True Y: 0\n",
      "[True] Predicion: 0 True Y: 0\n",
      "[True] Predicion: 0 True Y: 0\n",
      "[True] Predicion: 0 True Y: 0\n",
      "[True] Predicion: 0 True Y: 0\n",
      "[True] Predicion: 1 True Y: 1\n",
      "[True] Predicion: 6 True Y: 6\n",
      "[True] Predicion: 3 True Y: 3\n",
      "[True] Predicion: 0 True Y: 0\n",
      "[True] Predicion: 0 True Y: 0\n",
      "[True] Predicion: 2 True Y: 2\n",
      "[True] Predicion: 6 True Y: 6\n",
      "[True] Predicion: 1 True Y: 1\n",
      "[True] Predicion: 1 True Y: 1\n",
      "[True] Predicion: 2 True Y: 2\n",
      "[True] Predicion: 6 True Y: 6\n",
      "[True] Predicion: 3 True Y: 3\n",
      "[True] Predicion: 1 True Y: 1\n",
      "[True] Predicion: 0 True Y: 0\n",
      "[True] Predicion: 6 True Y: 6\n",
      "[True] Predicion: 3 True Y: 3\n",
      "[True] Predicion: 1 True Y: 1\n",
      "[True] Predicion: 5 True Y: 5\n",
      "[True] Predicion: 4 True Y: 4\n",
      "[True] Predicion: 2 True Y: 2\n",
      "[True] Predicion: 2 True Y: 2\n",
      "[True] Predicion: 3 True Y: 3\n",
      "[True] Predicion: 0 True Y: 0\n",
      "[True] Predicion: 0 True Y: 0\n",
      "[True] Predicion: 1 True Y: 1\n",
      "[True] Predicion: 0 True Y: 0\n",
      "[True] Predicion: 5 True Y: 5\n",
      "[True] Predicion: 0 True Y: 0\n",
      "[True] Predicion: 6 True Y: 6\n",
      "[True] Predicion: 1 True Y: 1\n"
     ]
    }
   ],
   "source": [
    "pred = sess.run(prediction, feed_dict = {X: x_data})\n",
    "\n",
    "for p, y in zip(pred, y_data.flatten()):\n",
    "    print(\"[{}] Predicion: {} True Y: {}\".format(p == int(y), p, int(y)))"
   ]
  },
  {
   "cell_type": "code",
   "execution_count": null,
   "metadata": {
    "collapsed": true
   },
   "outputs": [],
   "source": []
  }
 ],
 "metadata": {
  "kernelspec": {
   "display_name": "Python 3",
   "language": "python",
   "name": "python3"
  },
  "language_info": {
   "codemirror_mode": {
    "name": "ipython",
    "version": 3
   },
   "file_extension": ".py",
   "mimetype": "text/x-python",
   "name": "python",
   "nbconvert_exporter": "python",
   "pygments_lexer": "ipython3",
   "version": "3.6.2"
  }
 },
 "nbformat": 4,
 "nbformat_minor": 2
}
