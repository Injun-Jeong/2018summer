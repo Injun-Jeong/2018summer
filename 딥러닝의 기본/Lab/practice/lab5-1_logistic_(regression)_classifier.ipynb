{
 "cells": [
  {
   "cell_type": "code",
   "execution_count": 2,
   "metadata": {},
   "outputs": [
    {
     "name": "stdout",
     "output_type": "stream",
     "text": [
      "0 6.5371094\n",
      "500 0.61280805\n",
      "1000 0.5306768\n",
      "1500 0.48015437\n",
      "2000 0.43871117\n",
      "2500 0.40261963\n",
      "3000 0.37083438\n",
      "3500 0.34279123\n",
      "4000 0.31802943\n",
      "4500 0.2961313\n",
      "5000 0.276719\n",
      "5500 0.25945807\n",
      "6000 0.24405672\n",
      "6500 0.23026367\n",
      "7000 0.21786402\n",
      "7500 0.20667438\n",
      "8000 0.19653882\n",
      "8500 0.18732458\n",
      "9000 0.17891829\n",
      "9500 0.17122334\n",
      "10000 0.16415697\n",
      "\n",
      "Hypothesis:  [[0.03713965]\n",
      " [0.16670683]\n",
      " [0.3341565 ]\n",
      " [0.76830286]\n",
      " [0.93103534]\n",
      " [0.9773466 ]] \n",
      "Correct:  [[0.]\n",
      " [0.]\n",
      " [0.]\n",
      " [1.]\n",
      " [1.]\n",
      " [1.]] \n",
      "Accuracy:  1.0\n"
     ]
    }
   ],
   "source": [
    "import tensorflow as tf\n",
    "import numpy as np\n",
    "\n",
    "x_data = [[1,2],[2,3],[3,1],[4,3],[5,3],[6,2]]\n",
    "y_data = [[0],[0],[0],[1],[1],[1]]\n",
    "\n",
    "X = tf.placeholder(tf.float32, shape = [None, 2])\n",
    "Y = tf.placeholder(tf.float32, shape = [None, 1])\n",
    "\n",
    "W = tf.Variable(tf.random_normal([2, 1]), name = 'weight')\n",
    "b = tf.Variable(tf.random_normal([1]), name = 'bias')\n",
    "\n",
    "# hypothesis using sigmoid: tf.div(1., 1. + tf.exp(-tf.matmul(X, W) -b))\n",
    "hypothesis = tf.sigmoid(tf.matmul(X, W) + b)\n",
    "\n",
    "cost = -tf.reduce_mean(Y * tf.log(hypothesis) + (1-Y) * tf.log(1-hypothesis))\n",
    "\n",
    "# optimizer 선언과 동시에 minimize\n",
    "train = tf.train.GradientDescentOptimizer(learning_rate = 0.01).minimize(cost)\n",
    "\n",
    "# accuracy computation\n",
    "# true if hypothesis > 0.5 else false\n",
    "# cast는 True 또는 False의 값을 return\n",
    "# dtype를 tf.float32로 하면서 True는 1로, False는 0으로 retunr\n",
    "predicted = tf.cast(hypothesis > 0.5, dtype=tf.float32)\n",
    "accuracy = tf.reduce_mean(tf.cast(tf.equal(predicted, Y), dtype=tf.float32))\n",
    "\n",
    "\n",
    "with tf.Session() as sess:\n",
    "    sess.run(tf.global_variables_initializer())\n",
    "    \n",
    "    for step in range(10001):\n",
    "        cost_val, _ = sess.run([cost, train], feed_dict={X: x_data, Y:y_data})\n",
    "        if step % 500 == 0:\n",
    "            print(step, cost_val)\n",
    "            \n",
    "            \n",
    "    h, c, a = sess.run([hypothesis, predicted, accuracy], feed_dict={X: x_data, Y: y_data})\n",
    "    print(\"\\nHypothesis: \", h, \"\\nCorrect: \", c, \"\\nAccuracy: \", a)   \n",
    "        \n",
    " "
   ]
  },
  {
   "cell_type": "code",
   "execution_count": null,
   "metadata": {
    "collapsed": true
   },
   "outputs": [],
   "source": []
  }
 ],
 "metadata": {
  "kernelspec": {
   "display_name": "Python 3",
   "language": "python",
   "name": "python3"
  },
  "language_info": {
   "codemirror_mode": {
    "name": "ipython",
    "version": 3
   },
   "file_extension": ".py",
   "mimetype": "text/x-python",
   "name": "python",
   "nbconvert_exporter": "python",
   "pygments_lexer": "ipython3",
   "version": "3.6.2"
  }
 },
 "nbformat": 4,
 "nbformat_minor": 2
}
